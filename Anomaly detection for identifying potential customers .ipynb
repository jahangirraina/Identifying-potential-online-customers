{
 "cells": [
  {
   "cell_type": "markdown",
   "metadata": {},
   "source": [
    "# Anomaly detection for identifying potential customers"
   ]
  },
  {
   "cell_type": "code",
   "execution_count": 1,
   "metadata": {},
   "outputs": [],
   "source": [
    "import pandas as pd\n",
    "import numpy as np\n",
    "import ast\n",
    "import matplotlib.pyplot as plt\n",
    "%matplotlib inline\n",
    "import seaborn as sns\n",
    "import json\n",
    "import warnings\n",
    "warnings.filterwarnings('ignore')"
   ]
  },
  {
   "cell_type": "markdown",
   "metadata": {},
   "source": [
    "### Data Loading"
   ]
  },
  {
   "cell_type": "markdown",
   "metadata": {},
   "source": [
    "Extracting segment id from taxonomny tag"
   ]
  },
  {
   "cell_type": "code",
   "execution_count": 2,
   "metadata": {},
   "outputs": [],
   "source": [
    "taxonomy = pd.read_csv('taxonomy.csv')\n",
    "d = {\n",
    "    'user_uid': [],\n",
    "    'attempt_id': [],\n",
    "    'attempt_answers': []\n",
    "}\n",
    "\n",
    "for i in taxonomy.Tag:\n",
    "    P = str(i)+'_P'\n",
    "    A = str(i)+'_A'\n",
    "    d[P] = []\n",
    "    d[A] = []"
   ]
  },
  {
   "cell_type": "markdown",
   "metadata": {},
   "source": [
    "### Data transformation"
   ]
  },
  {
   "cell_type": "markdown",
   "metadata": {},
   "source": [
    "transforming json type data format to pandas dataframe to get the count and for further\n",
    "data analysis. "
   ]
  },
  {
   "cell_type": "code",
   "execution_count": 3,
   "metadata": {},
   "outputs": [],
   "source": [
    "data = pd.read_csv('data.csv')\n",
    "\n",
    "for index, i in data.iterrows():\n",
    "    d['user_uid'].append(i.user_uid)\n",
    "    d['attempt_answers'].append(i.attempt_answers)\n",
    "    d['attempt_id'].append(i.attempt_id)\n",
    "    score = ast.literal_eval(i.score)[0]\n",
    "    for tag in taxonomy.Tag:\n",
    "        P = str(tag)+'_P'\n",
    "        A = str(tag)+'_A'\n",
    "        d[P].append(score.get(P, 0))\n",
    "        d[A].append(score.get(A, 0))"
   ]
  },
  {
   "cell_type": "code",
   "execution_count": 4,
   "metadata": {},
   "outputs": [],
   "source": [
    "df = pd.DataFrame(d)"
   ]
  },
  {
   "cell_type": "code",
   "execution_count": 5,
   "metadata": {
    "scrolled": true
   },
   "outputs": [
    {
     "data": {
      "text/html": [
       "<div>\n",
       "<style scoped>\n",
       "    .dataframe tbody tr th:only-of-type {\n",
       "        vertical-align: middle;\n",
       "    }\n",
       "\n",
       "    .dataframe tbody tr th {\n",
       "        vertical-align: top;\n",
       "    }\n",
       "\n",
       "    .dataframe thead th {\n",
       "        text-align: right;\n",
       "    }\n",
       "</style>\n",
       "<table border=\"1\" class=\"dataframe\">\n",
       "  <thead>\n",
       "    <tr style=\"text-align: right;\">\n",
       "      <th></th>\n",
       "      <th>user_uid</th>\n",
       "      <th>attempt_id</th>\n",
       "      <th>attempt_answers</th>\n",
       "      <th>3249_P</th>\n",
       "      <th>3249_A</th>\n",
       "      <th>3250_P</th>\n",
       "      <th>3250_A</th>\n",
       "      <th>3558_P</th>\n",
       "      <th>3558_A</th>\n",
       "      <th>3570_P</th>\n",
       "      <th>...</th>\n",
       "      <th>38351_P</th>\n",
       "      <th>38351_A</th>\n",
       "      <th>38352_P</th>\n",
       "      <th>38352_A</th>\n",
       "      <th>38353_P</th>\n",
       "      <th>38353_A</th>\n",
       "      <th>38354_P</th>\n",
       "      <th>38354_A</th>\n",
       "      <th>38355_P</th>\n",
       "      <th>38355_A</th>\n",
       "    </tr>\n",
       "  </thead>\n",
       "  <tbody>\n",
       "    <tr>\n",
       "      <th>0</th>\n",
       "      <td>aeb410da-154a-41ff-a6ef-f41dccf099ce</td>\n",
       "      <td>0007b181-a622-426a-abb6-a29c6e2ed6b9</td>\n",
       "      <td>86</td>\n",
       "      <td>1</td>\n",
       "      <td>0</td>\n",
       "      <td>1</td>\n",
       "      <td>0</td>\n",
       "      <td>1</td>\n",
       "      <td>0</td>\n",
       "      <td>1.0</td>\n",
       "      <td>...</td>\n",
       "      <td>1</td>\n",
       "      <td>0</td>\n",
       "      <td>1</td>\n",
       "      <td>1</td>\n",
       "      <td>1</td>\n",
       "      <td>0</td>\n",
       "      <td>1</td>\n",
       "      <td>0</td>\n",
       "      <td>1</td>\n",
       "      <td>0</td>\n",
       "    </tr>\n",
       "    <tr>\n",
       "      <th>1</th>\n",
       "      <td>65c0cf13-a144-40da-8ea5-1ef3f5777ca4</td>\n",
       "      <td>0016cfd9-b84d-4d8b-abe7-86157f5fe7b0</td>\n",
       "      <td>86</td>\n",
       "      <td>1</td>\n",
       "      <td>0</td>\n",
       "      <td>1</td>\n",
       "      <td>0</td>\n",
       "      <td>1</td>\n",
       "      <td>0</td>\n",
       "      <td>1.0</td>\n",
       "      <td>...</td>\n",
       "      <td>1</td>\n",
       "      <td>0</td>\n",
       "      <td>1</td>\n",
       "      <td>0</td>\n",
       "      <td>1</td>\n",
       "      <td>1</td>\n",
       "      <td>1</td>\n",
       "      <td>0</td>\n",
       "      <td>1</td>\n",
       "      <td>0</td>\n",
       "    </tr>\n",
       "    <tr>\n",
       "      <th>2</th>\n",
       "      <td>6b22dfe6-988a-46dd-a3a6-ad392fdbac94</td>\n",
       "      <td>0023e0ff-0363-4f56-940e-74006152e988</td>\n",
       "      <td>86</td>\n",
       "      <td>1</td>\n",
       "      <td>0</td>\n",
       "      <td>1</td>\n",
       "      <td>0</td>\n",
       "      <td>1</td>\n",
       "      <td>0</td>\n",
       "      <td>1.0</td>\n",
       "      <td>...</td>\n",
       "      <td>1</td>\n",
       "      <td>1</td>\n",
       "      <td>1</td>\n",
       "      <td>1</td>\n",
       "      <td>1</td>\n",
       "      <td>0</td>\n",
       "      <td>1</td>\n",
       "      <td>0</td>\n",
       "      <td>1</td>\n",
       "      <td>0</td>\n",
       "    </tr>\n",
       "    <tr>\n",
       "      <th>3</th>\n",
       "      <td>5d7a1d8a-ff71-4220-afb8-26b723945365</td>\n",
       "      <td>0025087d-7929-4542-bfb8-1c086d08b484</td>\n",
       "      <td>85</td>\n",
       "      <td>1</td>\n",
       "      <td>0</td>\n",
       "      <td>1</td>\n",
       "      <td>1</td>\n",
       "      <td>1</td>\n",
       "      <td>0</td>\n",
       "      <td>1.0</td>\n",
       "      <td>...</td>\n",
       "      <td>1</td>\n",
       "      <td>1</td>\n",
       "      <td>1</td>\n",
       "      <td>1</td>\n",
       "      <td>1</td>\n",
       "      <td>0</td>\n",
       "      <td>1</td>\n",
       "      <td>0</td>\n",
       "      <td>1</td>\n",
       "      <td>0</td>\n",
       "    </tr>\n",
       "    <tr>\n",
       "      <th>4</th>\n",
       "      <td>6b2cdba5-66a1-4d02-b90e-9ab0faea35bc</td>\n",
       "      <td>002690dd-f673-4f84-b365-219bd728db23</td>\n",
       "      <td>85</td>\n",
       "      <td>1</td>\n",
       "      <td>0</td>\n",
       "      <td>1</td>\n",
       "      <td>0</td>\n",
       "      <td>1</td>\n",
       "      <td>0</td>\n",
       "      <td>1.0</td>\n",
       "      <td>...</td>\n",
       "      <td>1</td>\n",
       "      <td>0</td>\n",
       "      <td>1</td>\n",
       "      <td>1</td>\n",
       "      <td>1</td>\n",
       "      <td>0</td>\n",
       "      <td>1</td>\n",
       "      <td>0</td>\n",
       "      <td>1</td>\n",
       "      <td>0</td>\n",
       "    </tr>\n",
       "  </tbody>\n",
       "</table>\n",
       "<p>5 rows × 1343 columns</p>\n",
       "</div>"
      ],
      "text/plain": [
       "                               user_uid                            attempt_id  \\\n",
       "0  aeb410da-154a-41ff-a6ef-f41dccf099ce  0007b181-a622-426a-abb6-a29c6e2ed6b9   \n",
       "1  65c0cf13-a144-40da-8ea5-1ef3f5777ca4  0016cfd9-b84d-4d8b-abe7-86157f5fe7b0   \n",
       "2  6b22dfe6-988a-46dd-a3a6-ad392fdbac94  0023e0ff-0363-4f56-940e-74006152e988   \n",
       "3  5d7a1d8a-ff71-4220-afb8-26b723945365  0025087d-7929-4542-bfb8-1c086d08b484   \n",
       "4  6b2cdba5-66a1-4d02-b90e-9ab0faea35bc  002690dd-f673-4f84-b365-219bd728db23   \n",
       "\n",
       "   attempt_answers  3249_P  3249_A  3250_P  3250_A  3558_P  3558_A  3570_P  \\\n",
       "0               86       1       0       1       0       1       0     1.0   \n",
       "1               86       1       0       1       0       1       0     1.0   \n",
       "2               86       1       0       1       0       1       0     1.0   \n",
       "3               85       1       0       1       1       1       0     1.0   \n",
       "4               85       1       0       1       0       1       0     1.0   \n",
       "\n",
       "   ...  38351_P  38351_A  38352_P  38352_A  38353_P  38353_A  38354_P  \\\n",
       "0  ...        1        0        1        1        1        0        1   \n",
       "1  ...        1        0        1        0        1        1        1   \n",
       "2  ...        1        1        1        1        1        0        1   \n",
       "3  ...        1        1        1        1        1        0        1   \n",
       "4  ...        1        0        1        1        1        0        1   \n",
       "\n",
       "   38354_A  38355_P  38355_A  \n",
       "0        0        1        0  \n",
       "1        0        1        0  \n",
       "2        0        1        0  \n",
       "3        0        1        0  \n",
       "4        0        1        0  \n",
       "\n",
       "[5 rows x 1343 columns]"
      ]
     },
     "execution_count": 5,
     "metadata": {},
     "output_type": "execute_result"
    }
   ],
   "source": [
    "df.head()"
   ]
  },
  {
   "cell_type": "markdown",
   "metadata": {},
   "source": [
    "### JSON to Python Dataframe\n",
    "We have data in JSON like format, so we need to handle it using JSON library,\n",
    "\n",
    "Firstly we are converting class string to json format and then we are appending the key and values in new lists and then we are creating and puting into new dataframe.\n",
    "\n",
    "Then for count oprtation we are putting it to flatList"
   ]
  },
  {
   "cell_type": "code",
   "execution_count": 6,
   "metadata": {},
   "outputs": [],
   "source": [
    "df_ = []\n",
    "for j in range(len(data)):\n",
    "    Smalltrunk = []\n",
    "    for i in json.loads(data.score[j]):\n",
    "        Smalltrunk.append(pd.DataFrame.from_dict(i,orient='index'))\n",
    "        df_.append(Smalltrunk[0].index.values)\n",
    "\n",
    "flatList = [val for sublist in df_ for val in sublist]"
   ]
  },
  {
   "cell_type": "code",
   "execution_count": 7,
   "metadata": {},
   "outputs": [
    {
     "data": {
      "text/plain": [
       "10183_P    7495\n",
       "9762_P     7495\n",
       "30682_P    7495\n",
       "11674_P    7495\n",
       "5761_P     7495\n",
       "Name: Test, dtype: int64"
      ]
     },
     "execution_count": 7,
     "metadata": {},
     "output_type": "execute_result"
    }
   ],
   "source": [
    "Test = pd.DataFrame(flatList)\n",
    "Test.columns = [\"Test\"]\n",
    "Test.Test.value_counts().head()"
   ]
  },
  {
   "cell_type": "code",
   "execution_count": 8,
   "metadata": {},
   "outputs": [
    {
     "data": {
      "text/plain": [
       "10183_P    7495\n",
       "9762_P     7495\n",
       "30682_P    7495\n",
       "11674_P    7495\n",
       "5761_P     7495\n",
       "           ... \n",
       "30243_A      30\n",
       "11220_A      29\n",
       "30246_A      22\n",
       "11826_A      20\n",
       "11643_A       3\n",
       "Name: Test, Length: 1277, dtype: int64"
      ]
     },
     "execution_count": 8,
     "metadata": {},
     "output_type": "execute_result"
    }
   ],
   "source": [
    "Test.Test.value_counts()"
   ]
  },
  {
   "cell_type": "markdown",
   "metadata": {},
   "source": [
    "### Explorartory Data Analysis"
   ]
  },
  {
   "cell_type": "code",
   "execution_count": 9,
   "metadata": {},
   "outputs": [
    {
     "data": {
      "text/plain": [
       "attempt_answers\n",
       "46        6\n",
       "47     1207\n",
       "48      614\n",
       "82        2\n",
       "83        2\n",
       "84        9\n",
       "85     2221\n",
       "86     2527\n",
       "87      904\n",
       "94        1\n",
       "100       1\n",
       "172       1\n",
       "dtype: int64"
      ]
     },
     "execution_count": 9,
     "metadata": {},
     "output_type": "execute_result"
    }
   ],
   "source": [
    "df.groupby('attempt_answers').size()"
   ]
  },
  {
   "cell_type": "code",
   "execution_count": 10,
   "metadata": {
    "scrolled": true
   },
   "outputs": [
    {
     "data": {
      "text/plain": [
       "<matplotlib.axes._subplots.AxesSubplot at 0x7ff580f23510>"
      ]
     },
     "execution_count": 10,
     "metadata": {},
     "output_type": "execute_result"
    },
    {
     "data": {
      "image/png": "[encoded data removed]",
      "text/plain": [
       "<Figure size 432x288 with 1 Axes>"
      ]
     },
     "metadata": {
      "needs_background": "light"
     },
     "output_type": "display_data"
    }
   ],
   "source": [
    "CountStatus = pd.value_counts(Test['Test'].values, sort=True)\n",
    "\n",
    "CountStatus.plot.barh()"
   ]
  },
  {
   "cell_type": "markdown",
   "metadata": {},
   "source": [
    "Handling the deleminiter and spliting data to Pandas dataframe"
   ]
  },
  {
   "cell_type": "code",
   "execution_count": 11,
   "metadata": {
    "scrolled": true
   },
   "outputs": [],
   "source": [
    "taxonomy = pd.read_csv(\"taxonomy.csv\")\n",
    "\n",
    "table_taxonomy = pd.concat([taxonomy.Tag, pd.DataFrame(taxonomy.Label.str.split(\"§\").tolist())], axis=1)"
   ]
  },
  {
   "cell_type": "code",
   "execution_count": 12,
   "metadata": {
    "scrolled": true
   },
   "outputs": [
    {
     "data": {
      "text/html": [
       "<div>\n",
       "<style scoped>\n",
       "    .dataframe tbody tr th:only-of-type {\n",
       "        vertical-align: middle;\n",
       "    }\n",
       "\n",
       "    .dataframe tbody tr th {\n",
       "        vertical-align: top;\n",
       "    }\n",
       "\n",
       "    .dataframe thead th {\n",
       "        text-align: right;\n",
       "    }\n",
       "</style>\n",
       "<table border=\"1\" class=\"dataframe\">\n",
       "  <thead>\n",
       "    <tr style=\"text-align: right;\">\n",
       "      <th></th>\n",
       "      <th>Tag</th>\n",
       "      <th>0</th>\n",
       "      <th>1</th>\n",
       "      <th>2</th>\n",
       "      <th>3</th>\n",
       "      <th>4</th>\n",
       "      <th>5</th>\n",
       "      <th>6</th>\n",
       "    </tr>\n",
       "  </thead>\n",
       "  <tbody>\n",
       "    <tr>\n",
       "      <th>0</th>\n",
       "      <td>3249</td>\n",
       "      <td>Taxonomy2</td>\n",
       "      <td>Demographic</td>\n",
       "      <td>Children</td>\n",
       "      <td>Pre-school</td>\n",
       "      <td>None</td>\n",
       "      <td>None</td>\n",
       "      <td>None</td>\n",
       "    </tr>\n",
       "    <tr>\n",
       "      <th>1</th>\n",
       "      <td>3250</td>\n",
       "      <td>Taxonomy2</td>\n",
       "      <td>Demographic</td>\n",
       "      <td>Children</td>\n",
       "      <td>School-age</td>\n",
       "      <td>None</td>\n",
       "      <td>None</td>\n",
       "      <td>None</td>\n",
       "    </tr>\n",
       "    <tr>\n",
       "      <th>2</th>\n",
       "      <td>3558</td>\n",
       "      <td>Taxonomy2</td>\n",
       "      <td>Interests</td>\n",
       "      <td>Auto</td>\n",
       "      <td>None</td>\n",
       "      <td>None</td>\n",
       "      <td>None</td>\n",
       "      <td>None</td>\n",
       "    </tr>\n",
       "    <tr>\n",
       "      <th>3</th>\n",
       "      <td>3570</td>\n",
       "      <td>Taxonomy2</td>\n",
       "      <td>Interests</td>\n",
       "      <td>Current Affairs</td>\n",
       "      <td>None</td>\n",
       "      <td>None</td>\n",
       "      <td>None</td>\n",
       "      <td>None</td>\n",
       "    </tr>\n",
       "    <tr>\n",
       "      <th>4</th>\n",
       "      <td>3586</td>\n",
       "      <td>Taxonomy2</td>\n",
       "      <td>Interests</td>\n",
       "      <td>Current Affairs</td>\n",
       "      <td>Politics</td>\n",
       "      <td>None</td>\n",
       "      <td>None</td>\n",
       "      <td>None</td>\n",
       "    </tr>\n",
       "    <tr>\n",
       "      <th>...</th>\n",
       "      <td>...</td>\n",
       "      <td>...</td>\n",
       "      <td>...</td>\n",
       "      <td>...</td>\n",
       "      <td>...</td>\n",
       "      <td>...</td>\n",
       "      <td>...</td>\n",
       "      <td>...</td>\n",
       "    </tr>\n",
       "    <tr>\n",
       "      <th>665</th>\n",
       "      <td>38351</td>\n",
       "      <td>Taxonomy7</td>\n",
       "      <td>Holiday</td>\n",
       "      <td>Having to have the very best hotels, restaura...</td>\n",
       "      <td>Totally Disagree</td>\n",
       "      <td>None</td>\n",
       "      <td>None</td>\n",
       "      <td>None</td>\n",
       "    </tr>\n",
       "    <tr>\n",
       "      <th>666</th>\n",
       "      <td>38352</td>\n",
       "      <td>Taxonomy7</td>\n",
       "      <td>Holiday</td>\n",
       "      <td>Wanting to come back from vacation feeling re...</td>\n",
       "      <td>Totally Agree</td>\n",
       "      <td>None</td>\n",
       "      <td>None</td>\n",
       "      <td>None</td>\n",
       "    </tr>\n",
       "    <tr>\n",
       "      <th>667</th>\n",
       "      <td>38353</td>\n",
       "      <td>Taxonomy7</td>\n",
       "      <td>Holiday</td>\n",
       "      <td>Wanting to come back from vacation feeling re...</td>\n",
       "      <td>Somewhat Agree</td>\n",
       "      <td>None</td>\n",
       "      <td>None</td>\n",
       "      <td>None</td>\n",
       "    </tr>\n",
       "    <tr>\n",
       "      <th>668</th>\n",
       "      <td>38354</td>\n",
       "      <td>Taxonomy7</td>\n",
       "      <td>Holiday</td>\n",
       "      <td>Wanting to come back from vacation feeling re...</td>\n",
       "      <td>Somewhat Disagree</td>\n",
       "      <td>None</td>\n",
       "      <td>None</td>\n",
       "      <td>None</td>\n",
       "    </tr>\n",
       "    <tr>\n",
       "      <th>669</th>\n",
       "      <td>38355</td>\n",
       "      <td>Taxonomy7</td>\n",
       "      <td>Holiday</td>\n",
       "      <td>Wanting to come back from vacation feeling re...</td>\n",
       "      <td>Totally Disagree</td>\n",
       "      <td>None</td>\n",
       "      <td>None</td>\n",
       "      <td>None</td>\n",
       "    </tr>\n",
       "  </tbody>\n",
       "</table>\n",
       "<p>670 rows × 8 columns</p>\n",
       "</div>"
      ],
      "text/plain": [
       "       Tag           0              1  \\\n",
       "0     3249  Taxonomy2    Demographic    \n",
       "1     3250  Taxonomy2    Demographic    \n",
       "2     3558  Taxonomy2      Interests    \n",
       "3     3570  Taxonomy2      Interests    \n",
       "4     3586  Taxonomy2      Interests    \n",
       "..     ...         ...            ...   \n",
       "665  38351  Taxonomy7        Holiday    \n",
       "666  38352  Taxonomy7        Holiday    \n",
       "667  38353  Taxonomy7        Holiday    \n",
       "668  38354  Taxonomy7        Holiday    \n",
       "669  38355  Taxonomy7        Holiday    \n",
       "\n",
       "                                                     2                   3  \\\n",
       "0                                            Children           Pre-school   \n",
       "1                                            Children           School-age   \n",
       "2                                                 Auto                None   \n",
       "3                                      Current Affairs                None   \n",
       "4                                     Current Affairs             Politics   \n",
       "..                                                 ...                 ...   \n",
       "665   Having to have the very best hotels, restaura...    Totally Disagree   \n",
       "666   Wanting to come back from vacation feeling re...       Totally Agree   \n",
       "667   Wanting to come back from vacation feeling re...      Somewhat Agree   \n",
       "668   Wanting to come back from vacation feeling re...   Somewhat Disagree   \n",
       "669   Wanting to come back from vacation feeling re...    Totally Disagree   \n",
       "\n",
       "        4     5     6  \n",
       "0    None  None  None  \n",
       "1    None  None  None  \n",
       "2    None  None  None  \n",
       "3    None  None  None  \n",
       "4    None  None  None  \n",
       "..    ...   ...   ...  \n",
       "665  None  None  None  \n",
       "666  None  None  None  \n",
       "667  None  None  None  \n",
       "668  None  None  None  \n",
       "669  None  None  None  \n",
       "\n",
       "[670 rows x 8 columns]"
      ]
     },
     "execution_count": 12,
     "metadata": {},
     "output_type": "execute_result"
    }
   ],
   "source": [
    "table_taxonomy"
   ]
  },
  {
   "cell_type": "code",
   "execution_count": 13,
   "metadata": {
    "scrolled": true
   },
   "outputs": [
    {
     "data": {
      "text/plain": [
       "<matplotlib.axes._subplots.AxesSubplot at 0x7ff58421bdd0>"
      ]
     },
     "execution_count": 13,
     "metadata": {},
     "output_type": "execute_result"
    },
    {
     "data": {
      "image/png": "[encoded data removed]",
      "text/plain": [
       "<Figure size 432x288 with 1 Axes>"
      ]
     },
     "metadata": {
      "needs_background": "light"
     },
     "output_type": "display_data"
    }
   ],
   "source": [
    "taxonomy_ = pd.concat([taxonomy.Tag, pd.DataFrame(taxonomy.Label.str.split(\"§\").tolist())], axis=1)\n",
    "\n",
    "CountStatus = pd.value_counts(taxonomy_.iloc[:,2].values, sort=True)\n",
    "\n",
    "CountStatus.plot.bar()"
   ]
  },
  {
   "cell_type": "code",
   "execution_count": 16,
   "metadata": {},
   "outputs": [],
   "source": [
    "#### An experiment to reduce dimentionality\n",
    "\n",
    "#If you look at the chart above, several questions are being asked directly about holidays. Perhaps \n",
    "#that can be leveraged by perhaps considering (primarily) those variables that related to holidays. \n",
    "#Of the Tags in taxonomy I created a list of tags manually into a separate csv file, select_taxonomy.csv.\n",
    "#The idea is to consider those variables which explicitly gauge the interest of users in taking a holiday. \n",
    "#I then created this code below to extract from our dataframe (variable table) only those variables whose\n",
    "#tags are listed in select_taxonomy.csv. \n",
    "#Unfortunately I did not have time to test dimensionality reduction based on this assumption.\n",
    "\n",
    "\n",
    "#taxonomy = pd.read_csv('select_taxonomy.csv')\n",
    "#stringP = \"_P\"\n",
    "#stringA = \"_A\"\n",
    "\n",
    "#selected_variables = ['user_uid']\n",
    "#for i in taxonomy.Tag:\n",
    "    #selected_variables.append(str(i)+stringP)\n",
    "    #selected_variables.append(str(i)+stringA)\n"
   ]
  },
  {
   "cell_type": "code",
   "execution_count": 14,
   "metadata": {},
   "outputs": [],
   "source": [
    "##### Tried dimensionality reduction - PCA but it gave worse results\n",
    "##### So using all the varilables as they are\n",
    "\n",
    "#from sklearn.decomposition import PCA\n",
    "#pca = PCA(n_components=2)\n",
    "#principalComponents = pca.fit_transform(totalMerged)\n",
    "#totalMerged = pd.DataFrame(data = principalComponents, columns = ['principal component 1', 'principal component 2'])"
   ]
  },
  {
   "cell_type": "markdown",
   "metadata": {},
   "source": [
    "### Holiday operator"
   ]
  },
  {
   "cell_type": "code",
   "execution_count": 17,
   "metadata": {},
   "outputs": [
    {
     "data": {
      "text/html": [
       "<div>\n",
       "<style scoped>\n",
       "    .dataframe tbody tr th:only-of-type {\n",
       "        vertical-align: middle;\n",
       "    }\n",
       "\n",
       "    .dataframe tbody tr th {\n",
       "        vertical-align: top;\n",
       "    }\n",
       "\n",
       "    .dataframe thead th {\n",
       "        text-align: right;\n",
       "    }\n",
       "</style>\n",
       "<table border=\"1\" class=\"dataframe\">\n",
       "  <thead>\n",
       "    <tr style=\"text-align: right;\">\n",
       "      <th></th>\n",
       "      <th>user_uid</th>\n",
       "      <th>conv</th>\n",
       "    </tr>\n",
       "  </thead>\n",
       "  <tbody>\n",
       "    <tr>\n",
       "      <th>0</th>\n",
       "      <td>5dc38445-0570-4740-a54a-92f7a515f6a5</td>\n",
       "      <td>1</td>\n",
       "    </tr>\n",
       "    <tr>\n",
       "      <th>1</th>\n",
       "      <td>b8253a38-2a49-47f9-bafe-f1fe38302d1f</td>\n",
       "      <td>1</td>\n",
       "    </tr>\n",
       "    <tr>\n",
       "      <th>2</th>\n",
       "      <td>5c935912-bc14-4ed4-a146-3604265ef40e</td>\n",
       "      <td>1</td>\n",
       "    </tr>\n",
       "    <tr>\n",
       "      <th>3</th>\n",
       "      <td>23b579c7-f75a-4e95-b4b0-6f4b3fe134ae</td>\n",
       "      <td>1</td>\n",
       "    </tr>\n",
       "    <tr>\n",
       "      <th>4</th>\n",
       "      <td>3332b115-ae67-440f-ba19-26dee8db2ffd</td>\n",
       "      <td>1</td>\n",
       "    </tr>\n",
       "  </tbody>\n",
       "</table>\n",
       "</div>"
      ],
      "text/plain": [
       "                               user_uid  conv\n",
       "0  5dc38445-0570-4740-a54a-92f7a515f6a5     1\n",
       "1  b8253a38-2a49-47f9-bafe-f1fe38302d1f     1\n",
       "2  5c935912-bc14-4ed4-a146-3604265ef40e     1\n",
       "3  23b579c7-f75a-4e95-b4b0-6f4b3fe134ae     1\n",
       "4  3332b115-ae67-440f-ba19-26dee8db2ffd     1"
      ]
     },
     "execution_count": 17,
     "metadata": {},
     "output_type": "execute_result"
    }
   ],
   "source": [
    "conversion = pd.read_csv(\"conversion.csv\")\n",
    "conversion.head()"
   ]
  },
  {
   "cell_type": "code",
   "execution_count": 18,
   "metadata": {},
   "outputs": [
    {
     "data": {
      "text/plain": [
       "(520, 2)"
      ]
     },
     "execution_count": 18,
     "metadata": {},
     "output_type": "execute_result"
    }
   ],
   "source": [
    "conversion.shape"
   ]
  },
  {
   "cell_type": "markdown",
   "metadata": {},
   "source": [
    "merging conversion column to dataframe of segment and user id, by unique identifier \"user id\""
   ]
  },
  {
   "cell_type": "code",
   "execution_count": 19,
   "metadata": {},
   "outputs": [
    {
     "data": {
      "text/html": [
       "<div>\n",
       "<style scoped>\n",
       "    .dataframe tbody tr th:only-of-type {\n",
       "        vertical-align: middle;\n",
       "    }\n",
       "\n",
       "    .dataframe tbody tr th {\n",
       "        vertical-align: top;\n",
       "    }\n",
       "\n",
       "    .dataframe thead th {\n",
       "        text-align: right;\n",
       "    }\n",
       "</style>\n",
       "<table border=\"1\" class=\"dataframe\">\n",
       "  <thead>\n",
       "    <tr style=\"text-align: right;\">\n",
       "      <th></th>\n",
       "      <th>user_uid</th>\n",
       "      <th>attempt_id</th>\n",
       "      <th>attempt_answers</th>\n",
       "      <th>3249_P</th>\n",
       "      <th>3249_A</th>\n",
       "      <th>3250_P</th>\n",
       "      <th>3250_A</th>\n",
       "      <th>3558_P</th>\n",
       "      <th>3558_A</th>\n",
       "      <th>3570_P</th>\n",
       "      <th>...</th>\n",
       "      <th>38351_A</th>\n",
       "      <th>38352_P</th>\n",
       "      <th>38352_A</th>\n",
       "      <th>38353_P</th>\n",
       "      <th>38353_A</th>\n",
       "      <th>38354_P</th>\n",
       "      <th>38354_A</th>\n",
       "      <th>38355_P</th>\n",
       "      <th>38355_A</th>\n",
       "      <th>conv</th>\n",
       "    </tr>\n",
       "  </thead>\n",
       "  <tbody>\n",
       "    <tr>\n",
       "      <th>0</th>\n",
       "      <td>d05c64c7-fba5-4be3-bb63-975bb0fa60e7</td>\n",
       "      <td>0048fe01-2734-40fb-877e-29a574551c96</td>\n",
       "      <td>86</td>\n",
       "      <td>1</td>\n",
       "      <td>0</td>\n",
       "      <td>1</td>\n",
       "      <td>1</td>\n",
       "      <td>1</td>\n",
       "      <td>0</td>\n",
       "      <td>1.0</td>\n",
       "      <td>...</td>\n",
       "      <td>1</td>\n",
       "      <td>1</td>\n",
       "      <td>0</td>\n",
       "      <td>1</td>\n",
       "      <td>0</td>\n",
       "      <td>1</td>\n",
       "      <td>1</td>\n",
       "      <td>1</td>\n",
       "      <td>0</td>\n",
       "      <td>1</td>\n",
       "    </tr>\n",
       "    <tr>\n",
       "      <th>1</th>\n",
       "      <td>45dabb22-ef74-4f87-970d-b4185819ad12</td>\n",
       "      <td>007023f3-a00e-4667-a0fe-00755a82713d</td>\n",
       "      <td>85</td>\n",
       "      <td>1</td>\n",
       "      <td>1</td>\n",
       "      <td>1</td>\n",
       "      <td>1</td>\n",
       "      <td>1</td>\n",
       "      <td>0</td>\n",
       "      <td>1.0</td>\n",
       "      <td>...</td>\n",
       "      <td>0</td>\n",
       "      <td>1</td>\n",
       "      <td>1</td>\n",
       "      <td>1</td>\n",
       "      <td>0</td>\n",
       "      <td>1</td>\n",
       "      <td>0</td>\n",
       "      <td>1</td>\n",
       "      <td>0</td>\n",
       "      <td>1</td>\n",
       "    </tr>\n",
       "    <tr>\n",
       "      <th>2</th>\n",
       "      <td>1093e4e5-8aa8-42e1-b3c0-7e434e24c046</td>\n",
       "      <td>0119e966-a9bc-4053-9795-f8245cd8aaa1</td>\n",
       "      <td>86</td>\n",
       "      <td>1</td>\n",
       "      <td>0</td>\n",
       "      <td>1</td>\n",
       "      <td>0</td>\n",
       "      <td>1</td>\n",
       "      <td>0</td>\n",
       "      <td>1.0</td>\n",
       "      <td>...</td>\n",
       "      <td>0</td>\n",
       "      <td>1</td>\n",
       "      <td>1</td>\n",
       "      <td>1</td>\n",
       "      <td>0</td>\n",
       "      <td>1</td>\n",
       "      <td>0</td>\n",
       "      <td>1</td>\n",
       "      <td>0</td>\n",
       "      <td>1</td>\n",
       "    </tr>\n",
       "    <tr>\n",
       "      <th>3</th>\n",
       "      <td>fde9b60a-dba7-4873-b592-8a4e0d8e9114</td>\n",
       "      <td>01c1c90b-2660-47f4-853f-9ac397581449</td>\n",
       "      <td>87</td>\n",
       "      <td>1</td>\n",
       "      <td>0</td>\n",
       "      <td>1</td>\n",
       "      <td>0</td>\n",
       "      <td>1</td>\n",
       "      <td>0</td>\n",
       "      <td>1.0</td>\n",
       "      <td>...</td>\n",
       "      <td>0</td>\n",
       "      <td>1</td>\n",
       "      <td>0</td>\n",
       "      <td>1</td>\n",
       "      <td>1</td>\n",
       "      <td>1</td>\n",
       "      <td>0</td>\n",
       "      <td>1</td>\n",
       "      <td>0</td>\n",
       "      <td>1</td>\n",
       "    </tr>\n",
       "    <tr>\n",
       "      <th>4</th>\n",
       "      <td>f8a2390f-1436-4914-b67d-8ecd17e25d9c</td>\n",
       "      <td>0212149f-acb1-43a1-9ce5-31d91bcca8e2</td>\n",
       "      <td>87</td>\n",
       "      <td>1</td>\n",
       "      <td>0</td>\n",
       "      <td>1</td>\n",
       "      <td>0</td>\n",
       "      <td>1</td>\n",
       "      <td>0</td>\n",
       "      <td>1.0</td>\n",
       "      <td>...</td>\n",
       "      <td>0</td>\n",
       "      <td>1</td>\n",
       "      <td>1</td>\n",
       "      <td>1</td>\n",
       "      <td>0</td>\n",
       "      <td>1</td>\n",
       "      <td>0</td>\n",
       "      <td>1</td>\n",
       "      <td>0</td>\n",
       "      <td>1</td>\n",
       "    </tr>\n",
       "  </tbody>\n",
       "</table>\n",
       "<p>5 rows × 1344 columns</p>\n",
       "</div>"
      ],
      "text/plain": [
       "                               user_uid                            attempt_id  \\\n",
       "0  d05c64c7-fba5-4be3-bb63-975bb0fa60e7  0048fe01-2734-40fb-877e-29a574551c96   \n",
       "1  45dabb22-ef74-4f87-970d-b4185819ad12  007023f3-a00e-4667-a0fe-00755a82713d   \n",
       "2  1093e4e5-8aa8-42e1-b3c0-7e434e24c046  0119e966-a9bc-4053-9795-f8245cd8aaa1   \n",
       "3  fde9b60a-dba7-4873-b592-8a4e0d8e9114  01c1c90b-2660-47f4-853f-9ac397581449   \n",
       "4  f8a2390f-1436-4914-b67d-8ecd17e25d9c  0212149f-acb1-43a1-9ce5-31d91bcca8e2   \n",
       "\n",
       "   attempt_answers  3249_P  3249_A  3250_P  3250_A  3558_P  3558_A  3570_P  \\\n",
       "0               86       1       0       1       1       1       0     1.0   \n",
       "1               85       1       1       1       1       1       0     1.0   \n",
       "2               86       1       0       1       0       1       0     1.0   \n",
       "3               87       1       0       1       0       1       0     1.0   \n",
       "4               87       1       0       1       0       1       0     1.0   \n",
       "\n",
       "   ...  38351_A  38352_P  38352_A  38353_P  38353_A  38354_P  38354_A  \\\n",
       "0  ...        1        1        0        1        0        1        1   \n",
       "1  ...        0        1        1        1        0        1        0   \n",
       "2  ...        0        1        1        1        0        1        0   \n",
       "3  ...        0        1        0        1        1        1        0   \n",
       "4  ...        0        1        1        1        0        1        0   \n",
       "\n",
       "   38355_P  38355_A  conv  \n",
       "0        1        0     1  \n",
       "1        1        0     1  \n",
       "2        1        0     1  \n",
       "3        1        0     1  \n",
       "4        1        0     1  \n",
       "\n",
       "[5 rows x 1344 columns]"
      ]
     },
     "execution_count": 19,
     "metadata": {},
     "output_type": "execute_result"
    }
   ],
   "source": [
    "MergedConvertedData = pd.merge(df, conversion, on='user_uid')\n",
    "\n",
    "MergedConvertedData.head()"
   ]
  },
  {
   "cell_type": "code",
   "execution_count": 20,
   "metadata": {},
   "outputs": [
    {
     "data": {
      "text/plain": [
       "(535, 1344)"
      ]
     },
     "execution_count": 20,
     "metadata": {},
     "output_type": "execute_result"
    }
   ],
   "source": [
    "MergedConvertedData.shape\n",
    "# this is 535 and conversion is 520 rows. means 15 are either duplicates or they are users taking quiz again. deal with this"
   ]
  },
  {
   "cell_type": "code",
   "execution_count": 21,
   "metadata": {},
   "outputs": [],
   "source": [
    "MergedConvertedData = MergedConvertedData.drop_duplicates(subset = 'user_uid',keep=\"first\")"
   ]
  },
  {
   "cell_type": "code",
   "execution_count": 22,
   "metadata": {},
   "outputs": [
    {
     "data": {
      "text/plain": [
       "(520, 1344)"
      ]
     },
     "execution_count": 22,
     "metadata": {},
     "output_type": "execute_result"
    }
   ],
   "source": [
    "MergedConvertedData.shape\n",
    "# fixed now"
   ]
  },
  {
   "cell_type": "markdown",
   "metadata": {},
   "source": [
    "### Splitting dataset to train and test"
   ]
  },
  {
   "cell_type": "code",
   "execution_count": 23,
   "metadata": {},
   "outputs": [],
   "source": [
    "totalMerged = MergedConvertedData.drop(['attempt_id','user_uid','attempt_answers','conv'],axis=1)"
   ]
  },
  {
   "cell_type": "code",
   "execution_count": 24,
   "metadata": {},
   "outputs": [
    {
     "data": {
      "text/html": [
       "<div>\n",
       "<style scoped>\n",
       "    .dataframe tbody tr th:only-of-type {\n",
       "        vertical-align: middle;\n",
       "    }\n",
       "\n",
       "    .dataframe tbody tr th {\n",
       "        vertical-align: top;\n",
       "    }\n",
       "\n",
       "    .dataframe thead th {\n",
       "        text-align: right;\n",
       "    }\n",
       "</style>\n",
       "<table border=\"1\" class=\"dataframe\">\n",
       "  <thead>\n",
       "    <tr style=\"text-align: right;\">\n",
       "      <th></th>\n",
       "      <th>user_uid</th>\n",
       "      <th>attempt_id</th>\n",
       "      <th>attempt_answers</th>\n",
       "      <th>3249_P</th>\n",
       "      <th>3249_A</th>\n",
       "      <th>3250_P</th>\n",
       "      <th>3250_A</th>\n",
       "      <th>3558_P</th>\n",
       "      <th>3558_A</th>\n",
       "      <th>3570_P</th>\n",
       "      <th>...</th>\n",
       "      <th>38351_A</th>\n",
       "      <th>38352_P</th>\n",
       "      <th>38352_A</th>\n",
       "      <th>38353_P</th>\n",
       "      <th>38353_A</th>\n",
       "      <th>38354_P</th>\n",
       "      <th>38354_A</th>\n",
       "      <th>38355_P</th>\n",
       "      <th>38355_A</th>\n",
       "      <th>conv</th>\n",
       "    </tr>\n",
       "  </thead>\n",
       "  <tbody>\n",
       "    <tr>\n",
       "      <th>0</th>\n",
       "      <td>d05c64c7-fba5-4be3-bb63-975bb0fa60e7</td>\n",
       "      <td>0048fe01-2734-40fb-877e-29a574551c96</td>\n",
       "      <td>86</td>\n",
       "      <td>1</td>\n",
       "      <td>0</td>\n",
       "      <td>1</td>\n",
       "      <td>1</td>\n",
       "      <td>1</td>\n",
       "      <td>0</td>\n",
       "      <td>1.0</td>\n",
       "      <td>...</td>\n",
       "      <td>1</td>\n",
       "      <td>1</td>\n",
       "      <td>0</td>\n",
       "      <td>1</td>\n",
       "      <td>0</td>\n",
       "      <td>1</td>\n",
       "      <td>1</td>\n",
       "      <td>1</td>\n",
       "      <td>0</td>\n",
       "      <td>1</td>\n",
       "    </tr>\n",
       "    <tr>\n",
       "      <th>1</th>\n",
       "      <td>45dabb22-ef74-4f87-970d-b4185819ad12</td>\n",
       "      <td>007023f3-a00e-4667-a0fe-00755a82713d</td>\n",
       "      <td>85</td>\n",
       "      <td>1</td>\n",
       "      <td>1</td>\n",
       "      <td>1</td>\n",
       "      <td>1</td>\n",
       "      <td>1</td>\n",
       "      <td>0</td>\n",
       "      <td>1.0</td>\n",
       "      <td>...</td>\n",
       "      <td>0</td>\n",
       "      <td>1</td>\n",
       "      <td>1</td>\n",
       "      <td>1</td>\n",
       "      <td>0</td>\n",
       "      <td>1</td>\n",
       "      <td>0</td>\n",
       "      <td>1</td>\n",
       "      <td>0</td>\n",
       "      <td>1</td>\n",
       "    </tr>\n",
       "    <tr>\n",
       "      <th>2</th>\n",
       "      <td>1093e4e5-8aa8-42e1-b3c0-7e434e24c046</td>\n",
       "      <td>0119e966-a9bc-4053-9795-f8245cd8aaa1</td>\n",
       "      <td>86</td>\n",
       "      <td>1</td>\n",
       "      <td>0</td>\n",
       "      <td>1</td>\n",
       "      <td>0</td>\n",
       "      <td>1</td>\n",
       "      <td>0</td>\n",
       "      <td>1.0</td>\n",
       "      <td>...</td>\n",
       "      <td>0</td>\n",
       "      <td>1</td>\n",
       "      <td>1</td>\n",
       "      <td>1</td>\n",
       "      <td>0</td>\n",
       "      <td>1</td>\n",
       "      <td>0</td>\n",
       "      <td>1</td>\n",
       "      <td>0</td>\n",
       "      <td>1</td>\n",
       "    </tr>\n",
       "    <tr>\n",
       "      <th>3</th>\n",
       "      <td>fde9b60a-dba7-4873-b592-8a4e0d8e9114</td>\n",
       "      <td>01c1c90b-2660-47f4-853f-9ac397581449</td>\n",
       "      <td>87</td>\n",
       "      <td>1</td>\n",
       "      <td>0</td>\n",
       "      <td>1</td>\n",
       "      <td>0</td>\n",
       "      <td>1</td>\n",
       "      <td>0</td>\n",
       "      <td>1.0</td>\n",
       "      <td>...</td>\n",
       "      <td>0</td>\n",
       "      <td>1</td>\n",
       "      <td>0</td>\n",
       "      <td>1</td>\n",
       "      <td>1</td>\n",
       "      <td>1</td>\n",
       "      <td>0</td>\n",
       "      <td>1</td>\n",
       "      <td>0</td>\n",
       "      <td>1</td>\n",
       "    </tr>\n",
       "    <tr>\n",
       "      <th>4</th>\n",
       "      <td>f8a2390f-1436-4914-b67d-8ecd17e25d9c</td>\n",
       "      <td>0212149f-acb1-43a1-9ce5-31d91bcca8e2</td>\n",
       "      <td>87</td>\n",
       "      <td>1</td>\n",
       "      <td>0</td>\n",
       "      <td>1</td>\n",
       "      <td>0</td>\n",
       "      <td>1</td>\n",
       "      <td>0</td>\n",
       "      <td>1.0</td>\n",
       "      <td>...</td>\n",
       "      <td>0</td>\n",
       "      <td>1</td>\n",
       "      <td>1</td>\n",
       "      <td>1</td>\n",
       "      <td>0</td>\n",
       "      <td>1</td>\n",
       "      <td>0</td>\n",
       "      <td>1</td>\n",
       "      <td>0</td>\n",
       "      <td>1</td>\n",
       "    </tr>\n",
       "  </tbody>\n",
       "</table>\n",
       "<p>5 rows × 1344 columns</p>\n",
       "</div>"
      ],
      "text/plain": [
       "                               user_uid                            attempt_id  \\\n",
       "0  d05c64c7-fba5-4be3-bb63-975bb0fa60e7  0048fe01-2734-40fb-877e-29a574551c96   \n",
       "1  45dabb22-ef74-4f87-970d-b4185819ad12  007023f3-a00e-4667-a0fe-00755a82713d   \n",
       "2  1093e4e5-8aa8-42e1-b3c0-7e434e24c046  0119e966-a9bc-4053-9795-f8245cd8aaa1   \n",
       "3  fde9b60a-dba7-4873-b592-8a4e0d8e9114  01c1c90b-2660-47f4-853f-9ac397581449   \n",
       "4  f8a2390f-1436-4914-b67d-8ecd17e25d9c  0212149f-acb1-43a1-9ce5-31d91bcca8e2   \n",
       "\n",
       "   attempt_answers  3249_P  3249_A  3250_P  3250_A  3558_P  3558_A  3570_P  \\\n",
       "0               86       1       0       1       1       1       0     1.0   \n",
       "1               85       1       1       1       1       1       0     1.0   \n",
       "2               86       1       0       1       0       1       0     1.0   \n",
       "3               87       1       0       1       0       1       0     1.0   \n",
       "4               87       1       0       1       0       1       0     1.0   \n",
       "\n",
       "   ...  38351_A  38352_P  38352_A  38353_P  38353_A  38354_P  38354_A  \\\n",
       "0  ...        1        1        0        1        0        1        1   \n",
       "1  ...        0        1        1        1        0        1        0   \n",
       "2  ...        0        1        1        1        0        1        0   \n",
       "3  ...        0        1        0        1        1        1        0   \n",
       "4  ...        0        1        1        1        0        1        0   \n",
       "\n",
       "   38355_P  38355_A  conv  \n",
       "0        1        0     1  \n",
       "1        1        0     1  \n",
       "2        1        0     1  \n",
       "3        1        0     1  \n",
       "4        1        0     1  \n",
       "\n",
       "[5 rows x 1344 columns]"
      ]
     },
     "execution_count": 24,
     "metadata": {},
     "output_type": "execute_result"
    }
   ],
   "source": [
    "MergedConvertedData.head()"
   ]
  },
  {
   "cell_type": "markdown",
   "metadata": {},
   "source": [
    "spliting data for training and testing so that we can validate \n",
    "the model and predict on test set to get the accuracy of model"
   ]
  },
  {
   "cell_type": "code",
   "execution_count": 25,
   "metadata": {},
   "outputs": [],
   "source": [
    "test_threshold = int(len(totalMerged)*0.60)\n",
    "X_train = totalMerged.iloc[:test_threshold,]\n",
    "X_test = totalMerged.iloc[test_threshold:,]\n",
    "y_test = MergedConvertedData.iloc[test_threshold:,-1]"
   ]
  },
  {
   "cell_type": "code",
   "execution_count": 26,
   "metadata": {},
   "outputs": [
    {
     "data": {
      "text/plain": [
       "(312, 1340)"
      ]
     },
     "execution_count": 26,
     "metadata": {},
     "output_type": "execute_result"
    }
   ],
   "source": [
    "X_train.shape"
   ]
  },
  {
   "cell_type": "code",
   "execution_count": 27,
   "metadata": {},
   "outputs": [
    {
     "data": {
      "text/plain": [
       "(208, 1340)"
      ]
     },
     "execution_count": 27,
     "metadata": {},
     "output_type": "execute_result"
    }
   ],
   "source": [
    "X_test.shape"
   ]
  },
  {
   "cell_type": "markdown",
   "metadata": {},
   "source": [
    "### Model 1: One class SVM  model"
   ]
  },
  {
   "cell_type": "code",
   "execution_count": 29,
   "metadata": {},
   "outputs": [
    {
     "name": "stdout",
     "output_type": "stream",
     "text": [
      "Accuracy of One class SVM model is  85.58\n"
     ]
    }
   ],
   "source": [
    "from sklearn import svm\n",
    "\n",
    "oneclass = svm.OneClassSVM(nu=0.1, kernel='linear')\n",
    "\n",
    "oneclass.fit(X_train)\n",
    "y_pred = oneclass.predict(X_test)\n",
    "\n",
    "y_pred = np.where(y_pred==-1, 0, y_pred)\n",
    "\n",
    "from sklearn.metrics import accuracy_score\n",
    "\n",
    "print('Accuracy of One class SVM model is ',np.round(accuracy_score(y_test, y_pred)*100,2))\n"
   ]
  },
  {
   "cell_type": "markdown",
   "metadata": {},
   "source": [
    "#### Feature Importance"
   ]
  },
  {
   "cell_type": "code",
   "execution_count": 30,
   "metadata": {
    "scrolled": true
   },
   "outputs": [
    {
     "data": {
      "text/plain": [
       "<matplotlib.axes._subplots.AxesSubplot at 0x7ff57d6b73d0>"
      ]
     },
     "execution_count": 30,
     "metadata": {},
     "output_type": "execute_result"
    },
    {
     "data": {
      "image/png": "[encoded data removed]",
      "text/plain": [
       "<Figure size 432x288 with 1 Axes>"
      ]
     },
     "metadata": {
      "needs_background": "light"
     },
     "output_type": "display_data"
    }
   ],
   "source": [
    "pd.Series(abs(oneclass.coef_[0]), index=X_train.columns).nlargest(10).plot(kind='barh', title='OneClassSVM: Feature Importances')"
   ]
  },
  {
   "cell_type": "markdown",
   "metadata": {},
   "source": [
    "### Model 2: One Class IsolationForest model"
   ]
  },
  {
   "cell_type": "code",
   "execution_count": 31,
   "metadata": {},
   "outputs": [
    {
     "name": "stdout",
     "output_type": "stream",
     "text": [
      "Accuracy of Isolation forest model is  82.69\n"
     ]
    }
   ],
   "source": [
    "from sklearn.ensemble import IsolationForest\n",
    "clf = IsolationForest(n_estimators=10, contamination=0.2, warm_start=True)\n",
    "clf.fit(X_train)\n",
    "\n",
    "y_pred = clf.predict(X_test)\n",
    "\n",
    "y_pred = np.where(y_pred==-1, 0, y_pred)\n",
    "\n",
    "print('Accuracy of Isolation forest model is ',np.round(accuracy_score(y_test, y_pred)*100,2))"
   ]
  },
  {
   "cell_type": "markdown",
   "metadata": {},
   "source": [
    "### Submission file"
   ]
  },
  {
   "cell_type": "code",
   "execution_count": 32,
   "metadata": {},
   "outputs": [
    {
     "data": {
      "text/html": [
       "<div>\n",
       "<style scoped>\n",
       "    .dataframe tbody tr th:only-of-type {\n",
       "        vertical-align: middle;\n",
       "    }\n",
       "\n",
       "    .dataframe tbody tr th {\n",
       "        vertical-align: top;\n",
       "    }\n",
       "\n",
       "    .dataframe thead th {\n",
       "        text-align: right;\n",
       "    }\n",
       "</style>\n",
       "<table border=\"1\" class=\"dataframe\">\n",
       "  <thead>\n",
       "    <tr style=\"text-align: right;\">\n",
       "      <th></th>\n",
       "      <th>user_uid</th>\n",
       "      <th>p_conv</th>\n",
       "      <th>attempt_id</th>\n",
       "      <th>attempt_answers</th>\n",
       "      <th>3249_P</th>\n",
       "      <th>3249_A</th>\n",
       "      <th>3250_P</th>\n",
       "      <th>3250_A</th>\n",
       "      <th>3558_P</th>\n",
       "      <th>3558_A</th>\n",
       "      <th>...</th>\n",
       "      <th>38351_P</th>\n",
       "      <th>38351_A</th>\n",
       "      <th>38352_P</th>\n",
       "      <th>38352_A</th>\n",
       "      <th>38353_P</th>\n",
       "      <th>38353_A</th>\n",
       "      <th>38354_P</th>\n",
       "      <th>38354_A</th>\n",
       "      <th>38355_P</th>\n",
       "      <th>38355_A</th>\n",
       "    </tr>\n",
       "  </thead>\n",
       "  <tbody>\n",
       "    <tr>\n",
       "      <th>0</th>\n",
       "      <td>00096248-a433-46a4-b247-698931728fbb</td>\n",
       "      <td>0.5</td>\n",
       "      <td>ff2606a0-8f94-40a2-9441-04cd2034728a</td>\n",
       "      <td>85</td>\n",
       "      <td>1</td>\n",
       "      <td>0</td>\n",
       "      <td>1</td>\n",
       "      <td>0</td>\n",
       "      <td>1</td>\n",
       "      <td>0</td>\n",
       "      <td>...</td>\n",
       "      <td>1</td>\n",
       "      <td>1</td>\n",
       "      <td>1</td>\n",
       "      <td>0</td>\n",
       "      <td>1</td>\n",
       "      <td>1</td>\n",
       "      <td>1</td>\n",
       "      <td>0</td>\n",
       "      <td>1</td>\n",
       "      <td>0</td>\n",
       "    </tr>\n",
       "    <tr>\n",
       "      <th>1</th>\n",
       "      <td>0010b3f0-b66c-49d4-b32e-9e82f3a142b7</td>\n",
       "      <td>0.5</td>\n",
       "      <td>950e35cf-18f5-409e-b504-15463d8e1be0</td>\n",
       "      <td>85</td>\n",
       "      <td>1</td>\n",
       "      <td>0</td>\n",
       "      <td>1</td>\n",
       "      <td>0</td>\n",
       "      <td>1</td>\n",
       "      <td>0</td>\n",
       "      <td>...</td>\n",
       "      <td>1</td>\n",
       "      <td>0</td>\n",
       "      <td>1</td>\n",
       "      <td>1</td>\n",
       "      <td>1</td>\n",
       "      <td>0</td>\n",
       "      <td>1</td>\n",
       "      <td>0</td>\n",
       "      <td>1</td>\n",
       "      <td>0</td>\n",
       "    </tr>\n",
       "    <tr>\n",
       "      <th>2</th>\n",
       "      <td>00179b27-7d95-4bd5-a455-e9e9a5011741</td>\n",
       "      <td>0.5</td>\n",
       "      <td>e3b12714-3891-4279-9e78-182c6ca561df</td>\n",
       "      <td>86</td>\n",
       "      <td>1</td>\n",
       "      <td>0</td>\n",
       "      <td>1</td>\n",
       "      <td>0</td>\n",
       "      <td>1</td>\n",
       "      <td>0</td>\n",
       "      <td>...</td>\n",
       "      <td>1</td>\n",
       "      <td>0</td>\n",
       "      <td>1</td>\n",
       "      <td>0</td>\n",
       "      <td>1</td>\n",
       "      <td>1</td>\n",
       "      <td>1</td>\n",
       "      <td>0</td>\n",
       "      <td>1</td>\n",
       "      <td>0</td>\n",
       "    </tr>\n",
       "    <tr>\n",
       "      <th>3</th>\n",
       "      <td>001c9ae6-f076-4112-a18e-2e99279a6f86</td>\n",
       "      <td>0.5</td>\n",
       "      <td>7bb1e670-93ec-406e-bd1e-0ad9d46976e3</td>\n",
       "      <td>86</td>\n",
       "      <td>1</td>\n",
       "      <td>0</td>\n",
       "      <td>1</td>\n",
       "      <td>0</td>\n",
       "      <td>1</td>\n",
       "      <td>0</td>\n",
       "      <td>...</td>\n",
       "      <td>1</td>\n",
       "      <td>1</td>\n",
       "      <td>1</td>\n",
       "      <td>0</td>\n",
       "      <td>1</td>\n",
       "      <td>1</td>\n",
       "      <td>1</td>\n",
       "      <td>0</td>\n",
       "      <td>1</td>\n",
       "      <td>0</td>\n",
       "    </tr>\n",
       "    <tr>\n",
       "      <th>4</th>\n",
       "      <td>002c07e1-538e-4b69-b359-5a74aabb9de0</td>\n",
       "      <td>0.5</td>\n",
       "      <td>358cc56b-18f0-4a31-8266-9b73a260863d</td>\n",
       "      <td>85</td>\n",
       "      <td>1</td>\n",
       "      <td>0</td>\n",
       "      <td>1</td>\n",
       "      <td>1</td>\n",
       "      <td>1</td>\n",
       "      <td>0</td>\n",
       "      <td>...</td>\n",
       "      <td>1</td>\n",
       "      <td>0</td>\n",
       "      <td>1</td>\n",
       "      <td>0</td>\n",
       "      <td>1</td>\n",
       "      <td>1</td>\n",
       "      <td>1</td>\n",
       "      <td>0</td>\n",
       "      <td>1</td>\n",
       "      <td>0</td>\n",
       "    </tr>\n",
       "  </tbody>\n",
       "</table>\n",
       "<p>5 rows × 1344 columns</p>\n",
       "</div>"
      ],
      "text/plain": [
       "                               user_uid  p_conv  \\\n",
       "0  00096248-a433-46a4-b247-698931728fbb     0.5   \n",
       "1  0010b3f0-b66c-49d4-b32e-9e82f3a142b7     0.5   \n",
       "2  00179b27-7d95-4bd5-a455-e9e9a5011741     0.5   \n",
       "3  001c9ae6-f076-4112-a18e-2e99279a6f86     0.5   \n",
       "4  002c07e1-538e-4b69-b359-5a74aabb9de0     0.5   \n",
       "\n",
       "                             attempt_id  attempt_answers  3249_P  3249_A  \\\n",
       "0  ff2606a0-8f94-40a2-9441-04cd2034728a               85       1       0   \n",
       "1  950e35cf-18f5-409e-b504-15463d8e1be0               85       1       0   \n",
       "2  e3b12714-3891-4279-9e78-182c6ca561df               86       1       0   \n",
       "3  7bb1e670-93ec-406e-bd1e-0ad9d46976e3               86       1       0   \n",
       "4  358cc56b-18f0-4a31-8266-9b73a260863d               85       1       0   \n",
       "\n",
       "   3250_P  3250_A  3558_P  3558_A  ...  38351_P  38351_A  38352_P  38352_A  \\\n",
       "0       1       0       1       0  ...        1        1        1        0   \n",
       "1       1       0       1       0  ...        1        0        1        1   \n",
       "2       1       0       1       0  ...        1        0        1        0   \n",
       "3       1       0       1       0  ...        1        1        1        0   \n",
       "4       1       1       1       0  ...        1        0        1        0   \n",
       "\n",
       "   38353_P  38353_A  38354_P  38354_A  38355_P  38355_A  \n",
       "0        1        1        1        0        1        0  \n",
       "1        1        0        1        0        1        0  \n",
       "2        1        1        1        0        1        0  \n",
       "3        1        1        1        0        1        0  \n",
       "4        1        1        1        0        1        0  \n",
       "\n",
       "[5 rows x 1344 columns]"
      ]
     },
     "execution_count": 32,
     "metadata": {},
     "output_type": "execute_result"
    }
   ],
   "source": [
    "submission = pd.read_csv(\"submission.csv\")\n",
    "subm = pd.merge(submission, df, on='user_uid')\n",
    "subm.head()"
   ]
  },
  {
   "cell_type": "code",
   "execution_count": 33,
   "metadata": {},
   "outputs": [],
   "source": [
    "testSubmission = subm.drop(['attempt_id','user_uid','attempt_answers','p_conv'],axis=1)\n",
    "\n",
    "X_test_ = pd.DataFrame({\"p_conv\":oneclass.predict(testSubmission)})\n",
    "X_test_['user_uid'] = subm.user_uid\n",
    "\n",
    "#X_test_.to_csv('submission_oneclass.csv',index=False)"
   ]
  },
  {
   "cell_type": "code",
   "execution_count": 34,
   "metadata": {},
   "outputs": [],
   "source": [
    "testSubmission_IF = subm.drop(['attempt_id','attempt_answers','user_uid','p_conv'],axis=1)\n",
    "\n",
    "X_test_IF = pd.DataFrame({\"p_conv\":clf.predict(testSubmission_IF)})\n",
    "X_test_IF['user_uid'] = subm.user_uid\n",
    "\n",
    "#X_test_IF.to_csv('submission_IF.csv',index=False)"
   ]
  },
  {
   "cell_type": "markdown",
   "metadata": {},
   "source": [
    "## Model 3: Local Outlier Factor model"
   ]
  },
  {
   "cell_type": "code",
   "execution_count": 35,
   "metadata": {},
   "outputs": [
    {
     "name": "stdout",
     "output_type": "stream",
     "text": [
      "Accuracy of LocalOutlierFactor model is  89.9\n"
     ]
    }
   ],
   "source": [
    "from sklearn.neighbors import LocalOutlierFactor\n",
    "\n",
    "lof = LocalOutlierFactor(n_neighbors=5, contamination=0.1, novelty=True) \n",
    "\n",
    "lof.fit(X_train)\n",
    "\n",
    "y_pred=lof.predict(X_test)\n",
    "\n",
    "print('Accuracy of LocalOutlierFactor model is ',np.round(accuracy_score(y_test, y_pred)*100,2))"
   ]
  },
  {
   "cell_type": "code",
   "execution_count": 36,
   "metadata": {},
   "outputs": [],
   "source": [
    "testSubmissionLOF = subm.drop(['attempt_id','attempt_answers','user_uid','p_conv'],axis=1)\n",
    "\n",
    "X_test_LOF = pd.DataFrame({\"p_conv\":lof.predict(testSubmissionLOF)})\n",
    "X_test_LOF['user_uid'] = subm.user_uid\n",
    "\n",
    "#X_test_LOF.to_csv('submission_LOF.csv',index=False)"
   ]
  }
 ],
 "metadata": {
  "kernelspec": {
   "display_name": "Python 3",
   "language": "python",
   "name": "python3"
  },
  "language_info": {
   "codemirror_mode": {
    "name": "ipython",
    "version": 3
   },
   "file_extension": ".py",
   "mimetype": "text/x-python",
   "name": "python",
   "nbconvert_exporter": "python",
   "pygments_lexer": "ipython3",
   "version": "3.7.7"
  }
 },
 "nbformat": 4,
 "nbformat_minor": 4
}
